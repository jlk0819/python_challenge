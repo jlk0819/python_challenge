{
 "cells": [
  {
   "cell_type": "code",
   "execution_count": 1,
   "id": "87370426-12e0-4629-b11b-271b9b706b3c",
   "metadata": {},
   "outputs": [],
   "source": [
    "import os"
   ]
  },
  {
   "cell_type": "code",
   "execution_count": 2,
   "id": "b3129aca-6a36-48a0-8556-4d1b0fe6adca",
   "metadata": {},
   "outputs": [],
   "source": [
    "import csv"
   ]
  },
  {
   "cell_type": "code",
   "execution_count": 15,
   "id": "ddc9a7b3-9df2-4ea5-b902-2a6ce8b4cf02",
   "metadata": {},
   "outputs": [],
   "source": [
    "csvpath = os.path.join(os.getcwd(), \"PyPoll\",\"Resources\", \"election_data.csv\")"
   ]
  },
  {
   "cell_type": "code",
   "execution_count": 61,
   "id": "8993b221-15c5-4a73-a00f-fc6a7bd310ea",
   "metadata": {},
   "outputs": [],
   "source": [
    "# set variables\n",
    "charless_votes = 0\n",
    "dianad_votes = 0\n",
    "raymond_votes = 0\n",
    "total_votes = []\n",
    "winner = []\n",
    "candidate1 = \"Charles Casper Stockham\"\n",
    "candidate2 = \"Diana DeGette\"\n",
    "candidate3 = \"Raymon Anthony Doane\"\n"
   ]
  },
  {
   "cell_type": "code",
   "execution_count": 62,
   "id": "e7f130aa-d9d7-496e-9d16-47420ede92db",
   "metadata": {},
   "outputs": [],
   "source": [
    "# total number of votes\n",
    "total_votes = 0"
   ]
  },
  {
   "cell_type": "code",
   "execution_count": 63,
   "id": "29ad2b92-0dbc-4146-9be2-c25d48286be9",
   "metadata": {},
   "outputs": [],
   "source": [
    "# open csv file\n",
    "with open(csvpath, newline=\"\") as csvfile:\n",
    "    csv_reader = csv.reader(csvfile, delimiter=\",\")\n",
    "\n",
    "#header row\n",
    "    header = next(csv_reader)\n",
    "\n",
    "    for row in csv_reader:   \n",
    "        # Add to vote count\n",
    "        total_votes += 1\n",
    "        \n",
    "        # update the candidate list\n",
    "        if row[2] == \"Charles Casper Stockham\": \n",
    "            charless_votes +=1\n",
    "        elif row[2] == \"Diana DeGette\":\n",
    "            dianad_votes +=1\n",
    "        elif row[2] == \"Raymon Anthony Doane\": \n",
    "            raymond_votes +=1\n",
    "           \n",
    "#candidate percent\n",
    "charless_pct = round((charless_votes / total_votes) * 100, 3)\n",
    "dianad_pct = round((dianad_votes / total_votes) * 100, 3)\n",
    "raymond_pct = round((raymond_votes / total_votes) * 100, 3)\n",
    "\n",
    "    #winner\n",
    "    \n",
    "if charless_votes > dianad_votes and charless_votes > raymond_votes:\n",
    "    winner = candidate1\n",
    "elif dianad_votes > charless_votes and dianad_votes > raymond_votes:\n",
    "    winner = candidate2\n",
    "else: winner = candidate3\n"
   ]
  },
  {
   "cell_type": "code",
   "execution_count": 70,
   "id": "6f3c3524-124c-4164-b4dd-7cf3cfaa85d0",
   "metadata": {},
   "outputs": [
    {
     "name": "stdout",
     "output_type": "stream",
     "text": [
      "Election Results\n",
      "..............\n",
      "Total Votes:369711\n",
      "..............\n",
      "Charles Casper Stockham: 23.049% (85213)\n",
      "Diana DeGette: 73.812% (272892)\n",
      "Raymon Anthony Doane: 3.139% (11606)\n",
      "..............\n",
      "Winner: Diana DeGette\n",
      "..............\n"
     ]
    },
    {
     "data": {
      "text/plain": [
       "64"
      ]
     },
     "execution_count": 70,
     "metadata": {},
     "output_type": "execute_result"
    }
   ],
   "source": [
    "#Displaying information\n",
    "\n",
    "print(\"Election Results\")\n",
    "print(\"..............\")\n",
    "print(f\"Total Votes:{(total_votes)}\")\n",
    "print(\"..............\")\n",
    "print(f\"Charles Casper Stockham: {charless_pct}% ({charless_votes})\")\n",
    "print(f\"Diana DeGette: {dianad_pct}% ({dianad_votes})\")\n",
    "print(f\"Raymon Anthony Doane: {raymond_pct}% ({raymond_votes})\")\n",
    "print(\"..............\")\n",
    "print(f\"Winner: {winner}\")\n",
    "print(\"..............\")\n",
    "\n",
    "# Exporting to .txt file\n",
    "output = open(\"output.txt\", \"w\")\n",
    "line1 = \"Election Results\"\n",
    "line2 = \"--------------------------\"\n",
    "line3 = str(f\"Total Votes: {(total_votes)}\")\n",
    "line4 = str(\"--------------------------\")\n",
    "line5 = \"Charles Casper Stockham: {charless_pct}% ({charless_votes})\"\n",
    "line6 = \"Diana DeGette: {dianad_pct}% ({dianad_votes})\"\n",
    "line7 = \"Raymon Anthony Doane: {raymond_pct}% ({raymond_votes})\"\n",
    "line8 = \"..............\"\n",
    "line9 = \"--------------------------\"\n",
    "line10 = \"Winner: {winner}\"\n",
    "line11 = \"--------------------------\"\n",
    "output.write('{}\\n{}\\n{}\\n'.format(line1, line2, line3,line4, line5, line6,line7, line8, line9,line10, line11))\n",
    "\n"
   ]
  },
  {
   "cell_type": "code",
   "execution_count": null,
   "id": "ce0f9cce-cea1-4572-b44d-d27b2bc03222",
   "metadata": {},
   "outputs": [],
   "source": []
  },
  {
   "cell_type": "code",
   "execution_count": null,
   "id": "a826d719-6a07-4109-a48f-b1ba49717905",
   "metadata": {},
   "outputs": [],
   "source": []
  }
 ],
 "metadata": {
  "kernelspec": {
   "display_name": "Python 3 (ipykernel)",
   "language": "python",
   "name": "python3"
  },
  "language_info": {
   "codemirror_mode": {
    "name": "ipython",
    "version": 3
   },
   "file_extension": ".py",
   "mimetype": "text/x-python",
   "name": "python",
   "nbconvert_exporter": "python",
   "pygments_lexer": "ipython3",
   "version": "3.11.7"
  }
 },
 "nbformat": 4,
 "nbformat_minor": 5
}
